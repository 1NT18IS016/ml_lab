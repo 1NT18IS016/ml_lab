{
 "cells": [
  {
   "cell_type": "code",
   "execution_count": 3,
   "metadata": {},
   "outputs": [
    {
     "ename": "SyntaxError",
     "evalue": "invalid syntax (<ipython-input-3-24b315361a8d>, line 55)",
     "output_type": "error",
     "traceback": [
      "\u001b[0;36m  File \u001b[0;32m\"<ipython-input-3-24b315361a8d>\"\u001b[0;36m, line \u001b[0;32m55\u001b[0m\n\u001b[0;31m    print(\"Sum of squares total \",sst)\u001b[0m\n\u001b[0m    ^\u001b[0m\n\u001b[0;31mSyntaxError\u001b[0m\u001b[0;31m:\u001b[0m invalid syntax\n"
     ]
    }
   ],
   "source": [
    "#importing libraries\n",
    "import pandas as pd\n",
    "import statistics as st\n",
    "import math \n",
    "import scipy.stats\n",
    "import matplotlib.pyplot as plt\n",
    "\n",
    "#reading dataset\n",
    "data=pd.read_csv('Food-Truck-LineReg.csv')\n",
    "print(data)\n",
    "\n",
    "\n",
    "#standard deviation of x and y\n",
    "sx=st.stdev(data['x'])\n",
    "print(\"Standard deviation of x\",sx)\n",
    "\n",
    "sy=st.stdev(data['y'])\n",
    "print(\"Standard deviation of y\",sy)\n",
    "\n",
    "#corelation coefficient\n",
    "r=scipy.stats.pearsonr(data['x'],data['y'])[0]\n",
    "print(\"Corelation coefficient \",r)\n",
    "\n",
    "#Slope\n",
    "slope=r*sy/sx\n",
    "print(\"Slope\",slope)\n",
    "\n",
    "mx=st.mean(data['x'])\n",
    "my=st.mean(data['y'])\n",
    "print(mx,my)\n",
    "\n",
    "#C value\n",
    "c=my-slope*mx\n",
    "print(\"c \",c)\n",
    "\n",
    "#predicting Y\n",
    "y_pred=slope*data['x']+c\n",
    "print(y_pred.values)\n",
    "\n",
    "\n",
    "#plotting graph\n",
    "plt.scatter(data['x'],data['y'])\n",
    "plt.plot(data['x'],y_pred,color=\"black\")\n",
    "\n",
    "#Cost\n",
    "cost=abs(data['y']-y_pred)\n",
    "print(\"cost is \",cost.values)\n",
    "\n",
    "#SSE\n",
    "sse=sum(cost**2)\n",
    "print(\"Sum of Squares error\",sse)\n",
    "\n",
    "#SST\n",
    "sst=sum((data['y']-st.mean(data['y'])**2)\n",
    "print(\"Sum of squares total \",sst)\n",
    "\n",
    "#SSR\n",
    "ssr=sum((y_pred-st.mean(y_pred))**2)\n",
    "print(\"Sum of Squares Regression\",ssr)\n",
    "\n",
    "#R Square\n",
    "rsq=ssr/sst\n",
    "print(\"R square\",rsq)\n",
    "    "
   ]
  },
  {
   "cell_type": "code",
   "execution_count": null,
   "metadata": {},
   "outputs": [],
   "source": []
  },
  {
   "cell_type": "code",
   "execution_count": null,
   "metadata": {},
   "outputs": [],
   "source": []
  },
  {
   "cell_type": "code",
   "execution_count": null,
   "metadata": {},
   "outputs": [],
   "source": []
  },
  {
   "cell_type": "code",
   "execution_count": null,
   "metadata": {},
   "outputs": [],
   "source": []
  },
  {
   "cell_type": "code",
   "execution_count": null,
   "metadata": {},
   "outputs": [],
   "source": []
  },
  {
   "cell_type": "code",
   "execution_count": null,
   "metadata": {},
   "outputs": [],
   "source": []
  },
  {
   "cell_type": "code",
   "execution_count": null,
   "metadata": {},
   "outputs": [],
   "source": []
  },
  {
   "cell_type": "code",
   "execution_count": null,
   "metadata": {},
   "outputs": [],
   "source": []
  },
  {
   "cell_type": "code",
   "execution_count": null,
   "metadata": {},
   "outputs": [],
   "source": []
  },
  {
   "cell_type": "code",
   "execution_count": null,
   "metadata": {},
   "outputs": [],
   "source": []
  },
  {
   "cell_type": "code",
   "execution_count": null,
   "metadata": {},
   "outputs": [],
   "source": []
  },
  {
   "cell_type": "code",
   "execution_count": null,
   "metadata": {},
   "outputs": [],
   "source": []
  },
  {
   "cell_type": "code",
   "execution_count": null,
   "metadata": {},
   "outputs": [],
   "source": []
  }
 ],
 "metadata": {
  "kernelspec": {
   "display_name": "Python 3",
   "language": "python",
   "name": "python3"
  },
  "language_info": {
   "codemirror_mode": {
    "name": "ipython",
    "version": 3
   },
   "file_extension": ".py",
   "mimetype": "text/x-python",
   "name": "python",
   "nbconvert_exporter": "python",
   "pygments_lexer": "ipython3",
   "version": "3.8.5"
  }
 },
 "nbformat": 4,
 "nbformat_minor": 4
}
